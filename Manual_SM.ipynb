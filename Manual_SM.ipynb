{
  "nbformat": 4,
  "nbformat_minor": 0,
  "metadata": {
    "colab": {
      "provenance": [],
      "authorship_tag": "ABX9TyPmAzczDOTh1WZzzvwV0X/5",
      "include_colab_link": true
    },
    "kernelspec": {
      "name": "python3",
      "display_name": "Python 3"
    },
    "language_info": {
      "name": "python"
    }
  },
  "cells": [
    {
      "cell_type": "markdown",
      "metadata": {
        "id": "view-in-github",
        "colab_type": "text"
      },
      "source": [
        "<a href=\"https://colab.research.google.com/github/VishalR19/Slack-webhooks/blob/main/Manual_SM.ipynb\" target=\"_parent\"><img src=\"https://colab.research.google.com/assets/colab-badge.svg\" alt=\"Open In Colab\"/></a>"
      ]
    },
    {
      "cell_type": "markdown",
      "source": [
        "MANUAL MESSAGE FOR SLACK"
      ],
      "metadata": {
        "id": "mHUMKhe1lk_I"
      }
    },
    {
      "cell_type": "code",
      "execution_count": null,
      "metadata": {
        "id": "qMPKvyXblhUM"
      },
      "outputs": [],
      "source": [
        "#MANUAL MESSAGE\n",
        "import pandas as pd\n",
        "\n",
        "# Read the dataset\n",
        "data = pd.read_excel(\"/content/covid-19-state-level-data (1).xlsx\")\n",
        "\n",
        "# Convert the date column to datetime format\n",
        "data['date'] = pd.to_datetime(data['date'], format='%d-%m-%Y')\n",
        "\n",
        "# Group by month and state, and calculate total deaths\n",
        "monthly_state_deaths = data.groupby([data['date'].dt.month, 'state'])['deaths'].sum().reset_index()\n",
        "\n",
        "# Rename the month column\n",
        "monthly_state_deaths.rename(columns={'date': 'month'}, inplace=True)\n",
        "\n",
        "# Sort by month and deaths in descending order\n",
        "sorted_data = monthly_state_deaths.sort_values(['month', 'deaths'], ascending=[True, False])\n",
        "\n",
        "# Get the top 3 states for each month\n",
        "top_states_per_month = sorted_data.groupby('month').head(3)\n",
        "\n",
        "# Format the message\n",
        "message = \"\"\n",
        "for month, month_data in top_states_per_month.groupby('month'):\n",
        "    month_name = pd.to_datetime(month, format='%m').strftime('%B')\n",
        "    message += f\"Top 3 states with the highest number of COVID deaths for the month of {month_name}\\n\\n\"\n",
        "    \n",
        "    rank = 1\n",
        "    for idx, row in month_data.iterrows():\n",
        "        message += f\"State #{rank} ({row['state']}) - {row['deaths']}, {row['deaths'] / data['deaths'].sum() * 100:.2f}% of total US deaths\\n\"\n",
        "        rank += 1\n",
        "    \n",
        "    message += \"\\n\"\n",
        "\n",
        "print(message)\n"
      ]
    }
  ]
}